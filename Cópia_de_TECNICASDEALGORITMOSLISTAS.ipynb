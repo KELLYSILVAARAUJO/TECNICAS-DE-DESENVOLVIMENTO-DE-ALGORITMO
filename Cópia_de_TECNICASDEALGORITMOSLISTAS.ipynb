{
  "nbformat": 4,
  "nbformat_minor": 0,
  "metadata": {
    "colab": {
      "provenance": [],
      "authorship_tag": "ABX9TyM3C/y0OVSN8qVlMaY1Afct",
      "include_colab_link": true
    },
    "kernelspec": {
      "name": "python3",
      "display_name": "Python 3"
    },
    "language_info": {
      "name": "python"
    }
  },
  "cells": [
    {
      "cell_type": "markdown",
      "metadata": {
        "id": "view-in-github",
        "colab_type": "text"
      },
      "source": [
        "<a href=\"https://colab.research.google.com/github/KELLYSILVAARAUJO/TECNICAS-DE-DESENVOLVIMENTO-DE-ALGORITMO/blob/main/C%C3%B3pia_de_TECNICASDEALGORITMOSLISTAS.ipynb\" target=\"_parent\"><img src=\"https://colab.research.google.com/assets/colab-badge.svg\" alt=\"Open In Colab\"/></a>"
      ]
    },
    {
      "cell_type": "code",
      "execution_count": null,
      "metadata": {
        "colab": {
          "base_uri": "https://localhost:8080/"
        },
        "id": "hy0zCD00V_fy",
        "outputId": "bddb2a21-54e7-47cf-fde7-42e1758cfbcd"
      },
      "outputs": [
        {
          "output_type": "stream",
          "name": "stdout",
          "text": [
            "[10, 20, 30, 40]\n",
            "['programação', 'IFB', 'python']\n",
            "['oi', 2.0, 5, [10, 20]]\n"
          ]
        }
      ],
      "source": [
        "lista1 = [10, 20, 30, 40]\n",
        "lista2 = [\"programação\", \"IFB\", \"python\"]\n",
        "lista3 = [\"oi\", 2.0, 5, [10, 20]]\n",
        "print(lista1)\n",
        "print(lista2)\n",
        "print(lista3)"
      ]
    },
    {
      "cell_type": "code",
      "source": [
        "for i in range (10):\n",
        "  print (i)"
      ],
      "metadata": {
        "colab": {
          "base_uri": "https://localhost:8080/"
        },
        "id": "q0KXyYyVXrpO",
        "outputId": "42375d42-0321-45b0-8cda-91e1562c400e"
      },
      "execution_count": null,
      "outputs": [
        {
          "output_type": "stream",
          "name": "stdout",
          "text": [
            "0\n",
            "1\n",
            "2\n",
            "3\n",
            "4\n",
            "5\n",
            "6\n",
            "7\n",
            "8\n",
            "9\n"
          ]
        }
      ]
    }
  ]
}