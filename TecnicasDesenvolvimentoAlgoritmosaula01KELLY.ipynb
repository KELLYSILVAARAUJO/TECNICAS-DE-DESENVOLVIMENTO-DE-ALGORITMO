{
  "nbformat": 4,
  "nbformat_minor": 0,
  "metadata": {
    "colab": {
      "provenance": [],
      "authorship_tag": "ABX9TyPkwmBJzHF95h2MzgxsE34h",
      "include_colab_link": true
    },
    "kernelspec": {
      "name": "python3",
      "display_name": "Python 3"
    },
    "language_info": {
      "name": "python"
    }
  },
  "cells": [
    {
      "cell_type": "markdown",
      "metadata": {
        "id": "view-in-github",
        "colab_type": "text"
      },
      "source": [
        "<a href=\"https://colab.research.google.com/github/KELLYSILVAARAUJO/TECNICAS-DE-DESENVOLVIMENTO-DE-ALGORITMO/blob/main/TecnicasDesenvolvimentoAlgoritmosaula01KELLY.ipynb\" target=\"_parent\"><img src=\"https://colab.research.google.com/assets/colab-badge.svg\" alt=\"Open In Colab\"/></a>"
      ]
    },
    {
      "cell_type": "code",
      "execution_count": null,
      "metadata": {
        "id": "Sy4HwIv7PAG3"
      },
      "outputs": [],
      "source": []
    },
    {
      "cell_type": "markdown",
      "source": [
        "Nome: Kelly da Silva Araujo\n",
        "\n",
        "Curso: Ciência da Computação\n",
        "\n",
        "\n",
        "![python.01.jpg](data:image/jpeg;base64,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)\n"
      ],
      "metadata": {
        "id": "PWZokGjzQW22"
      }
    },
    {
      "cell_type": "code",
      "source": [
        "'''02 Escreva um programa que solicite ao usuário um número inteiro e ao final apresente na tela\n",
        "o número informado pelo usuário do programa'''\n",
        "num = int(input('Digite um numero inteiro:'))\n",
        "print(num)\n",
        "type(num)"
      ],
      "metadata": {
        "colab": {
          "base_uri": "https://localhost:8080/"
        },
        "id": "Z7bCCBo4a-38",
        "outputId": "08e61a32-25f6-4dae-ba05-883ad5352dcc"
      },
      "execution_count": null,
      "outputs": [
        {
          "output_type": "stream",
          "name": "stdout",
          "text": [
            "Digite um numero inteiro:77\n",
            "77\n"
          ]
        },
        {
          "output_type": "execute_result",
          "data": {
            "text/plain": [
              "int"
            ]
          },
          "metadata": {},
          "execution_count": 1
        }
      ]
    },
    {
      "cell_type": "code",
      "source": [
        "'''03 Escreva um programa que solicite ao usuário um número inteiro e ao final apresente na tela o número informado da seguinte forma: \"Foi informado o valor:X\"'''\n",
        "num = int(input(\"Digite um número inteiro: \"))\n",
        "print(\"Foi informado o valor:\", (num))"
      ],
      "metadata": {
        "id": "2440Xmavsf6V",
        "colab": {
          "base_uri": "https://localhost:8080/"
        },
        "outputId": "c19e2f78-b823-46cf-a794-1933d0efeb40"
      },
      "execution_count": 2,
      "outputs": [
        {
          "output_type": "stream",
          "name": "stdout",
          "text": [
            "Digite um número inteiro: 7\n",
            "Foi informado o valor: 7\n"
          ]
        }
      ]
    },
    {
      "cell_type": "code",
      "source": [
        "'''04.Escreva um programa que solicite ao usuário dois números inteiros e ao final apresente na\n",
        "tela os dois números informados da seguinte forma: \"Voce informou os numeros X e Y\"\n",
        "'''\n",
        "num1= int(input(\"Digite o primeiro número:\"))\n",
        "num2= int(input(\"Digite o segundo número\"))\n",
        "print(\"Você informou os números\",num1, \"e\",num2)\n"
      ],
      "metadata": {
        "colab": {
          "base_uri": "https://localhost:8080/"
        },
        "id": "0Cc-4qdXHwDA",
        "outputId": "96ae3878-01c3-46f0-e4b7-555fa9e7b6d5"
      },
      "execution_count": 3,
      "outputs": [
        {
          "output_type": "stream",
          "name": "stdout",
          "text": [
            "Digite o primeiro número:5\n",
            "Digite o segundo número8\n",
            "Você informou os números 5 e 8\n"
          ]
        }
      ]
    },
    {
      "cell_type": "markdown",
      "source": [],
      "metadata": {
        "id": "9qZ1jXOuRVEs"
      }
    },
    {
      "cell_type": "code",
      "source": [
        "'''\n",
        "05.  Escreva um programa que solicite ao usuário um número real e ao final apresente na tela o\n",
        "número informado formatado com duas casas decimais da seguinte forma: \"Voce informou\n",
        "o numero X.YY\"\n",
        "'''\n",
        "\n",
        "num = float(input(\"Digite um número real: \"))\n",
        "print(f\"Você informou o número {num:.2f}\")"
      ],
      "metadata": {
        "colab": {
          "base_uri": "https://localhost:8080/"
        },
        "id": "Bdb1ZeWvH0XH",
        "outputId": "af771383-9f8e-4485-91e3-605180819c45"
      },
      "execution_count": 4,
      "outputs": [
        {
          "output_type": "stream",
          "name": "stdout",
          "text": [
            "Digite um número real: 89\n",
            "Você informou o número 89.00\n"
          ]
        }
      ]
    },
    {
      "cell_type": "code",
      "source": [
        "'''\n",
        "06. Escreva um programa que solicite ao usuário a temperatura em graus Celsius e ao final\n",
        "apresente a temperatura correspondente em graus Farenheit. F = Celsius * 1.8 + 32\n",
        "'''\n",
        "\n",
        "celsius = float(input(\"Digite a temperatura em graus Celsius: \"))\n",
        "f = celsius * 1.8 + 32\n",
        "print(f\"A temperatura em Fahrenheit é: {f:.2f}\")"
      ],
      "metadata": {
        "colab": {
          "base_uri": "https://localhost:8080/"
        },
        "id": "Rcwv4pX5H6Nf",
        "outputId": "1eca8836-a28c-4a2a-b5e6-37f454e3cad9"
      },
      "execution_count": 5,
      "outputs": [
        {
          "output_type": "stream",
          "name": "stdout",
          "text": [
            "Digite a temperatura em graus Celsius: 987\n",
            "A temperatura em Fahrenheit é: 1808.60\n"
          ]
        }
      ]
    },
    {
      "cell_type": "code",
      "source": [
        "'''\n",
        "07. Escreva um programa que solicite ao usuário um número inteiro e um número real e ao final\n",
        "apresente na tela os dois números informados formatando com duas casas decimais\n",
        "somente o número real da seguinte forma: \"Voce informou os numeros N e X.YY\"\n",
        "'''\n",
        "\n",
        "n1 = int(input(\"Digite um número inteiro: \"))\n",
        "n2 = float(input(\"Digite um número real: \"))\n",
        "print(f\"Você informou os números {n1} e {n2:.2f}\")"
      ],
      "metadata": {
        "colab": {
          "base_uri": "https://localhost:8080/"
        },
        "id": "ks-WU4AKH9iP",
        "outputId": "54551dfa-6f37-42ba-a962-81089b0471f7"
      },
      "execution_count": 6,
      "outputs": [
        {
          "output_type": "stream",
          "name": "stdout",
          "text": [
            "Digite um número inteiro: 965\n",
            "Digite um número real: 854\n",
            "Você informou os números 965 e 854.00\n"
          ]
        }
      ]
    },
    {
      "cell_type": "code",
      "source": [
        "'''\n",
        "08. Escreva um programa que solicite ao usuário a primeira letra de seu nome e ao final\n",
        "apresente na tela a letra informada pelo usuário da seguinte forma: \"Voce digitou w\"\n",
        "'''\n",
        "\n",
        "letra = input(\"Digite a primeira letra do seu nome: \")\n",
        "print(f\"Você digitou {letra}\")"
      ],
      "metadata": {
        "colab": {
          "base_uri": "https://localhost:8080/"
        },
        "id": "IV7jNAZhIBCP",
        "outputId": "32a0d9c6-d41b-401b-bd34-6e9605ded0d4"
      },
      "execution_count": 7,
      "outputs": [
        {
          "output_type": "stream",
          "name": "stdout",
          "text": [
            "Digite a primeira letra do seu nome: 654123\n",
            "Você digitou 654123\n"
          ]
        }
      ]
    },
    {
      "cell_type": "code",
      "source": [
        "'''\n",
        "09. Escreva um programa que solicite ao usuário o nome de sua cor preferida e ao final\n",
        "apresente na tela a cor informada pelo usuário da seguinte forma: \"Voce gosta da cor AAA\"\n",
        "'''\n",
        "cor = input(\"Digite o nome de sua cor preferida: \")\n",
        "print(f\"Você gosta da cor {cor}\")\n"
      ],
      "metadata": {
        "colab": {
          "base_uri": "https://localhost:8080/"
        },
        "id": "7_byTOiwIEVv",
        "outputId": "ceea2c08-51df-4840-b731-46f0ca1f0734"
      },
      "execution_count": 9,
      "outputs": [
        {
          "output_type": "stream",
          "name": "stdout",
          "text": [
            "Digite o nome de sua cor preferida: rosa\n",
            "Você gosta da cor rosa\n"
          ]
        }
      ]
    },
    {
      "cell_type": "code",
      "source": [
        "'''\n",
        "10. Escreva um programa que solicite ao usuário o nome de uma verdura e uma fruta de sua\n",
        "preferencia e ao final apresente na tela as informações digitadas pelo usuário da seguinte\n",
        "forma: \"Voce gosta de AAAAAAA e BBBBBBB\"\n",
        "'''\n",
        "verdura = input(\"Digite o nome de uma verdura: \")\n",
        "fruta = input(\"Digite o nome de uma fruta: \")\n",
        "print(f\"Você gosta de {verdura} e {fruta}\")"
      ],
      "metadata": {
        "colab": {
          "base_uri": "https://localhost:8080/"
        },
        "id": "Fn-OhlsXIH9A",
        "outputId": "a5e68e93-df39-4d53-cd95-3b8aff7ea6d3"
      },
      "execution_count": 10,
      "outputs": [
        {
          "output_type": "stream",
          "name": "stdout",
          "text": [
            "Digite o nome de uma verdura: 9587\n",
            "Digite o nome de uma fruta: morango\n",
            "Você gosta de 9587 e morango\n"
          ]
        }
      ]
    },
    {
      "cell_type": "code",
      "source": [
        "'''\n",
        "11. Elabore um algoritmo que solicite ao usuário um número real e ao final imprima na tela o\n",
        "numero informado e na linha de baixo o dobro deste número da seguinte forma:\n",
        "Numero -> X\n",
        "Dobro deste numero -> Y\n",
        "'''\n",
        "\n",
        "num = float(input(\"Digite um número real: \"))\n",
        "print(f\"Número -> {num}\")\n",
        "print(f\"Dobro deste número -> {num * 2}\")"
      ],
      "metadata": {
        "colab": {
          "base_uri": "https://localhost:8080/"
        },
        "id": "DIRYWL7kILio",
        "outputId": "8db58aab-0e47-4c49-cb04-6b17a748d238"
      },
      "execution_count": 11,
      "outputs": [
        {
          "output_type": "stream",
          "name": "stdout",
          "text": [
            "Digite um número real: 8\n",
            "Número -> 8.0\n",
            "Dobro deste número -> 16.0\n"
          ]
        }
      ]
    },
    {
      "cell_type": "code",
      "source": [
        "'''\n",
        "12. Reescrever o programa anterior apresentando o quadrado e o cubo do número informado\n",
        "'''\n",
        "num = float(input(\"Digite um número real: \"))\n",
        "print(f\"Número -> {num}\")\n",
        "print(f\"Quadrado deste número -> {num ** 2}\")\n",
        "print(f\"Cubo deste número -> {num ** 3}\")"
      ],
      "metadata": {
        "colab": {
          "base_uri": "https://localhost:8080/"
        },
        "id": "j7BAKoUuIRFK",
        "outputId": "81ccec4c-18a2-47a2-8bee-322d43d5f494"
      },
      "execution_count": 12,
      "outputs": [
        {
          "output_type": "stream",
          "name": "stdout",
          "text": [
            "Digite um número real: 78\n",
            "Número -> 78.0\n",
            "Quadrado deste número -> 6084.0\n",
            "Cubo deste número -> 474552.0\n"
          ]
        }
      ]
    },
    {
      "cell_type": "code",
      "source": [
        "'''\n",
        "13. Escreva um programa que solicite ao usuário dois números inteiros e ao final apresente\n",
        "na tela a soma dos dois números informados da seguinte forma: \"O numeros N e X\n",
        "somados correspondem a Y\"\n",
        "'''\n",
        "n1 = int(input(\"Digite o primeiro número inteiro: \"))\n",
        "n2 = int(input(\"Digite o segundo número inteiro: \"))\n",
        "print(f\"A soma dos números corresponde a {n1 + n2}\")"
      ],
      "metadata": {
        "colab": {
          "base_uri": "https://localhost:8080/"
        },
        "id": "MLG8sH-DIUEI",
        "outputId": "d58fe132-65a0-4f80-c22e-6d7444451907"
      },
      "execution_count": 13,
      "outputs": [
        {
          "output_type": "stream",
          "name": "stdout",
          "text": [
            "Digite o primeiro número inteiro: 8963\n",
            "Digite o segundo número inteiro: 56\n",
            "A soma dos números corresponde a 9019\n"
          ]
        }
      ]
    },
    {
      "cell_type": "code",
      "source": [
        "'''\n",
        "14. Escreva um programa que solicite ao usuário dois números reais e ao final apresente na\n",
        "tela o produto dos dois números informados da seguinte forma: \"O produto dos numeros N\n",
        "e X corresponde a Y\"\n",
        "'''\n",
        "\n",
        "n1 = float(input(\"Digite o primeiro número real: \"))\n",
        "n2 = float(input(\"Digite o segundo número real: \"))\n",
        "print(f\"O produto dos números {n1} e {n2} corresponde a {n1 * n2}\")"
      ],
      "metadata": {
        "colab": {
          "base_uri": "https://localhost:8080/"
        },
        "id": "7vY4ut4UIYaR",
        "outputId": "6f91ec01-bfe1-4934-a444-d81e5c28f6c0"
      },
      "execution_count": 15,
      "outputs": [
        {
          "output_type": "stream",
          "name": "stdout",
          "text": [
            "Digite o primeiro número real: 55\n",
            "Digite o segundo número real: 3\n",
            "O produto dos números 55.0 e 3.0 corresponde a 165.0\n"
          ]
        }
      ]
    },
    {
      "cell_type": "code",
      "source": [
        "'''\n",
        "15. Refazer o programa 14 realizando as quatro operações aritméticas básicas\n",
        "'''\n",
        "n1 = float(input(\"Digite o primeiro número real: \"))\n",
        "n2 = float(input(\"Digite o segundo número real: \"))\n",
        "print(f\"Soma: {n1 + n2}\")\n",
        "print(f\"Subtração: {n1 - n2}\")\n",
        "print(f\"Multiplicação: {n1 * n2}\")\n",
        "if n2 != 0:\n",
        "    print(f\"Divisão: {n1 / n2}\")\n",
        "else:\n",
        "    print(\"Divisão por zero não é permitida\")"
      ],
      "metadata": {
        "colab": {
          "base_uri": "https://localhost:8080/"
        },
        "id": "fSJ65vAEIbXj",
        "outputId": "88c1ab86-b4d6-4efb-b8b9-19b8743aa2cd"
      },
      "execution_count": 18,
      "outputs": [
        {
          "output_type": "stream",
          "name": "stdout",
          "text": [
            "Digite o primeiro número real: 44\n",
            "Digite o segundo número real: 2\n",
            "Soma: 46.0\n",
            "Subtração: 42.0\n",
            "Multiplicação: 88.0\n",
            "Divisão: 22.0\n"
          ]
        }
      ]
    },
    {
      "cell_type": "code",
      "source": [
        "'''\n",
        "16. Escreva um programa que solicite o valor fixo do salário de um vendedor, o total vendido\n",
        "no mês e o percentual de comissão do vendedor. Ao final apresentar o salário bruto.\n",
        "'''\n",
        "\n",
        "salario_fixo = float(input(\"Digite o valor fixo do salário do vendedor: \"))\n",
        "total_vendas = float(input(\"Digite o total vendido no mês: \"))\n",
        "percentual_comissao = float(input(\"Digite o percentual de comissão (%): \"))\n",
        "\n",
        "comissao = (percentual_comissao / 100) * total_vendas\n",
        "salario_bruto = salario_fixo + comissao\n",
        "\n",
        "print(f\"O salário bruto do vendedor é: R$ {salario_bruto:.2f}\")"
      ],
      "metadata": {
        "colab": {
          "base_uri": "https://localhost:8080/"
        },
        "id": "GDnE9c-NIfpr",
        "outputId": "fbb606c0-2576-4cbb-c45c-10792c7539ba"
      },
      "execution_count": null,
      "outputs": [
        {
          "name": "stdout",
          "output_type": "stream",
          "text": [
            "Digite o valor fixo do salário do vendedor: 5\n"
          ]
        }
      ]
    }
  ]
}